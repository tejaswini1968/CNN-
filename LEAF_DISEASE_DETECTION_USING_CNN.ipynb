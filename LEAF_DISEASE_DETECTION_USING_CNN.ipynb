{
  "nbformat": 4,
  "nbformat_minor": 0,
  "metadata": {
    "colab": {
      "provenance": [],
      "collapsed_sections": [],
      "mount_file_id": "1_UszPnntRkqzTaJ27JC0NBsFfp0tWoBR",
      "authorship_tag": "ABX9TyP+ankOEfjm7AoHzNfuQPAL",
      "include_colab_link": true
    },
    "kernelspec": {
      "name": "python3",
      "display_name": "Python 3"
    },
    "language_info": {
      "name": "python"
    },
    "gpuClass": "standard",
    "accelerator": "GPU"
  },
  "cells": [
    {
      "cell_type": "markdown",
      "metadata": {
        "id": "view-in-github",
        "colab_type": "text"
      },
      "source": [
        "<a href=\"https://colab.research.google.com/github/tejaswini1968/CNN-/blob/main/LEAF_DISEASE_DETECTION_USING_CNN.ipynb\" target=\"_parent\"><img src=\"https://colab.research.google.com/assets/colab-badge.svg\" alt=\"Open In Colab\"/></a>"
      ]
    },
    {
      "cell_type": "markdown",
      "source": [
        "PLANT LEAF DISEASE DETECTION USING CNN"
      ],
      "metadata": {
        "id": "ZdDqWQDVUQ79"
      }
    },
    {
      "cell_type": "code",
      "source": [
        "import keras\n",
        "import tensorflow\n",
        "import numpy as np\n",
        "import pickle\n",
        "import cv2\n",
        "import os\n",
        "import random\n",
        "from os  import listdir\n",
        "from sklearn.preprocessing import LabelBinarizer\n",
        "from keras.models import Sequential\n",
        "from tensorflow.keras.layers import BatchNormalization\n",
        "from keras.layers.convolutional import Conv2D\n",
        "from keras.layers.convolutional import MaxPooling2D\n",
        "from tensorflow.keras.layers import Activation, Flatten, Dropout, Dense\n",
        "from keras import backend as K\n",
        "from keras.preprocessing.image import ImageDataGenerator\n",
        "from tensorflow.keras.optimizers import Adam\n",
        "from keras.preprocessing import image\n",
        "from keras.preprocessing.image import img_to_array\n",
        "from sklearn.model_selection import train_test_split\n",
        "import matplotlib.pyplot as plt\n",
        "%matplotlib inline\n",
        "\n"
      ],
      "metadata": {
        "id": "Qc2WlHmYT99u"
      },
      "execution_count": 55,
      "outputs": []
    },
    {
      "cell_type": "code",
      "source": [
        "Number_of_epochs = 35\n",
        "Batch_size = 32\n",
        "default_image_size = tuple((175,175))\n",
        "directory_root = r\"/content/drive/MyDrive/PLANT  LEAF DISEASE DATA/TRAIN\"\n",
        "width = 175\n",
        "height = 175\n",
        "depth = 3\n"
      ],
      "metadata": {
        "id": "rIxx3CRqUz9F"
      },
      "execution_count": 56,
      "outputs": []
    },
    {
      "cell_type": "markdown",
      "source": [
        "FUNCTION TO CONVERT IMAGE TO NUMPY ARRAY\n"
      ],
      "metadata": {
        "id": "P6VR_truXhFI"
      }
    },
    {
      "cell_type": "code",
      "source": [
        "def convert_image_to_array(image_dir) :\n",
        "  image = cv2.imread(image_dir)\n",
        "  image = cv2.resize(image, default_image_size)\n",
        "  return img_to_array(image)\n"
      ],
      "metadata": {
        "id": "Wo0dp-0jXFbs"
      },
      "execution_count": 57,
      "outputs": []
    },
    {
      "cell_type": "markdown",
      "source": [
        "PREPARING LIST OF 15 DISEASE CATEGORIES"
      ],
      "metadata": {
        "id": "a1VTr6HfX5b0"
      }
    },
    {
      "cell_type": "code",
      "source": [
        "CATEGORIES = os.listdir(directory_root)"
      ],
      "metadata": {
        "id": "Quyu-yoLXr21"
      },
      "execution_count": 58,
      "outputs": []
    },
    {
      "cell_type": "code",
      "source": [
        "len(CATEGORIES)"
      ],
      "metadata": {
        "colab": {
          "base_uri": "https://localhost:8080/"
        },
        "id": "4FxkA3H3X3b3",
        "outputId": "2bf90403-5b19-46fa-b9a7-f960a43a4688"
      },
      "execution_count": 59,
      "outputs": [
        {
          "output_type": "execute_result",
          "data": {
            "text/plain": [
              "15"
            ]
          },
          "metadata": {},
          "execution_count": 59
        }
      ]
    },
    {
      "cell_type": "markdown",
      "source": [
        "PRINTING LIST OF ALL 15 DIESEASE CATEGORIES"
      ],
      "metadata": {
        "id": "9JR2gVNiYndE"
      }
    },
    {
      "cell_type": "code",
      "source": [
        "CATEGORIES"
      ],
      "metadata": {
        "colab": {
          "base_uri": "https://localhost:8080/"
        },
        "id": "tS3RVTD2YH_D",
        "outputId": "8d288fd9-d3fb-496b-d9c6-17c482181eb6"
      },
      "execution_count": 60,
      "outputs": [
        {
          "output_type": "execute_result",
          "data": {
            "text/plain": [
              "['Tomato_Bacterial_spot',\n",
              " 'Tomato_Leaf_Mold',\n",
              " 'Tomato_Spider_mites_Two_spotted_spider_mite',\n",
              " 'Tomato_Late_blight',\n",
              " 'Tomato__Tomato_mosaic_virus',\n",
              " 'Tomato_Septoria_leaf_spot',\n",
              " 'Tomato_Early_blight',\n",
              " 'Tomato_healthy',\n",
              " 'Tomato__Target_Spot',\n",
              " 'Tomato__Tomato_YellowLeaf__Curl_Virus',\n",
              " 'Potato___healthy',\n",
              " 'Pepper__bell___Bacterial_spot',\n",
              " 'Pepper__bell___healthy',\n",
              " 'Potato___Late_blight',\n",
              " 'Potato___Early_blight']"
            ]
          },
          "metadata": {},
          "execution_count": 60
        }
      ]
    },
    {
      "cell_type": "markdown",
      "source": [
        "FUNCTION TO READ ALL THE IMAGES AND THEIR DISEASE CATEGORIES IN A SINGLE LIST"
      ],
      "metadata": {
        "id": "QFYqAE4Id8Ce"
      }
    },
    {
      "cell_type": "code",
      "source": [
        "data = []\n",
        "for category in CATEGORIES:\n",
        "  folder = os.path.join(directory_root,category)\n",
        "  label = category\n",
        "  for img in os.listdir(folder)[ :300]:\n",
        "    img_path = os.path.join(folder, img)\n",
        "    img_array = convert_image_to_array(img_path)\n",
        "    data.append([img_array, label])\n"
      ],
      "metadata": {
        "id": "_mS_MqAMbAX4"
      },
      "execution_count": 61,
      "outputs": []
    },
    {
      "cell_type": "code",
      "source": [
        "len(data)"
      ],
      "metadata": {
        "colab": {
          "base_uri": "https://localhost:8080/"
        },
        "id": "80SSZqOUbHoW",
        "outputId": "1d552a81-b25d-417e-d580-e99e841a4c0d"
      },
      "execution_count": 62,
      "outputs": [
        {
          "output_type": "execute_result",
          "data": {
            "text/plain": [
              "4332"
            ]
          },
          "metadata": {},
          "execution_count": 62
        }
      ]
    },
    {
      "cell_type": "code",
      "source": [
        "data[400]"
      ],
      "metadata": {
        "colab": {
          "base_uri": "https://localhost:8080/"
        },
        "id": "cDnytxnEctVu",
        "outputId": "d5f39e16-a2f5-414c-f9a4-5e98762ef6b2"
      },
      "execution_count": 63,
      "outputs": [
        {
          "output_type": "execute_result",
          "data": {
            "text/plain": [
              "[array([[[164., 162., 179.],\n",
              "         [150., 149., 165.],\n",
              "         [156., 155., 171.],\n",
              "         ...,\n",
              "         [155., 155., 169.],\n",
              "         [158., 158., 172.],\n",
              "         [153., 153., 167.]],\n",
              " \n",
              "        [[156., 155., 171.],\n",
              "         [163., 162., 178.],\n",
              "         [147., 146., 162.],\n",
              "         ...,\n",
              "         [162., 162., 176.],\n",
              "         [152., 152., 166.],\n",
              "         [159., 159., 173.]],\n",
              " \n",
              "        [[149., 148., 164.],\n",
              "         [162., 161., 177.],\n",
              "         [143., 142., 158.],\n",
              "         ...,\n",
              "         [166., 166., 180.],\n",
              "         [155., 155., 169.],\n",
              "         [162., 162., 177.]],\n",
              " \n",
              "        ...,\n",
              " \n",
              "        [[115., 115., 131.],\n",
              "         [109., 109., 125.],\n",
              "         [139., 139., 155.],\n",
              "         ...,\n",
              "         [138., 137., 146.],\n",
              "         [164., 163., 172.],\n",
              "         [151., 150., 159.]],\n",
              " \n",
              "        [[120., 120., 136.],\n",
              "         [107., 107., 123.],\n",
              "         [133., 133., 149.],\n",
              "         ...,\n",
              "         [160., 159., 168.],\n",
              "         [123., 122., 131.],\n",
              "         [145., 144., 153.]],\n",
              " \n",
              "        [[102., 102., 118.],\n",
              "         [122., 122., 138.],\n",
              "         [129., 129., 145.],\n",
              "         ...,\n",
              "         [143., 142., 151.],\n",
              "         [156., 155., 164.],\n",
              "         [180., 179., 188.]]], dtype=float32), 'Tomato_Leaf_Mold']"
            ]
          },
          "metadata": {},
          "execution_count": 63
        }
      ]
    },
    {
      "cell_type": "markdown",
      "source": [
        "SEPARTING IMAGES AND LABELS "
      ],
      "metadata": {
        "id": "NFYTWRR_e0CE"
      }
    },
    {
      "cell_type": "code",
      "source": [
        "image_list = []\n",
        "labels_list = []\n",
        "for features, labels in data:\n",
        "  image_list.append(features)\n",
        "  labels_list.append(labels)\n"
      ],
      "metadata": {
        "id": "TSdZAKh0eRIb"
      },
      "execution_count": 64,
      "outputs": []
    },
    {
      "cell_type": "code",
      "source": [
        "len(image_list)"
      ],
      "metadata": {
        "colab": {
          "base_uri": "https://localhost:8080/"
        },
        "id": "43PYOU44eyKn",
        "outputId": "879eedac-97f5-429b-e9b6-8179c9edfd84"
      },
      "execution_count": 65,
      "outputs": [
        {
          "output_type": "execute_result",
          "data": {
            "text/plain": [
              "4332"
            ]
          },
          "metadata": {},
          "execution_count": 65
        }
      ]
    },
    {
      "cell_type": "code",
      "source": [
        "len(labels_list)"
      ],
      "metadata": {
        "colab": {
          "base_uri": "https://localhost:8080/"
        },
        "id": "L7Wi8WbjfHQO",
        "outputId": "08413019-bffc-43dd-dd68-05692bea8f66"
      },
      "execution_count": 66,
      "outputs": [
        {
          "output_type": "execute_result",
          "data": {
            "text/plain": [
              "4332"
            ]
          },
          "metadata": {},
          "execution_count": 66
        }
      ]
    },
    {
      "cell_type": "code",
      "source": [
        "labels_list[:10]"
      ],
      "metadata": {
        "colab": {
          "base_uri": "https://localhost:8080/"
        },
        "id": "38oumX8OfL8V",
        "outputId": "92984298-c120-4022-b4e6-65860a4edc5d"
      },
      "execution_count": 67,
      "outputs": [
        {
          "output_type": "execute_result",
          "data": {
            "text/plain": [
              "['Tomato_Bacterial_spot',\n",
              " 'Tomato_Bacterial_spot',\n",
              " 'Tomato_Bacterial_spot',\n",
              " 'Tomato_Bacterial_spot',\n",
              " 'Tomato_Bacterial_spot',\n",
              " 'Tomato_Bacterial_spot',\n",
              " 'Tomato_Bacterial_spot',\n",
              " 'Tomato_Bacterial_spot',\n",
              " 'Tomato_Bacterial_spot',\n",
              " 'Tomato_Bacterial_spot']"
            ]
          },
          "metadata": {},
          "execution_count": 67
        }
      ]
    },
    {
      "cell_type": "markdown",
      "source": [
        "ONE HOT-ENCODING OF CATERGORY LABELS USING LABEL BINARIZER"
      ],
      "metadata": {
        "id": "zwrz2-gBf5_Z"
      }
    },
    {
      "cell_type": "code",
      "source": [
        "label_binarizer = LabelBinarizer()\n",
        "image_labels = label_binarizer.fit_transform(labels_list)\n"
      ],
      "metadata": {
        "id": "EsAjDqj9fXvr"
      },
      "execution_count": 68,
      "outputs": []
    },
    {
      "cell_type": "code",
      "source": [
        "len(image_labels)"
      ],
      "metadata": {
        "colab": {
          "base_uri": "https://localhost:8080/"
        },
        "id": "gFM_OWEdfztk",
        "outputId": "36b312b0-b483-4cc2-c416-0a3f7da2200a"
      },
      "execution_count": 69,
      "outputs": [
        {
          "output_type": "execute_result",
          "data": {
            "text/plain": [
              "4332"
            ]
          },
          "metadata": {},
          "execution_count": 69
        }
      ]
    },
    {
      "cell_type": "code",
      "source": [
        "image_labels[10]"
      ],
      "metadata": {
        "colab": {
          "base_uri": "https://localhost:8080/"
        },
        "id": "HRSAZS6Mf3yX",
        "outputId": "9cd4edb4-8de4-4a75-9fbb-48bfb4b9f401"
      },
      "execution_count": 70,
      "outputs": [
        {
          "output_type": "execute_result",
          "data": {
            "text/plain": [
              "array([0, 0, 0, 0, 0, 1, 0, 0, 0, 0, 0, 0, 0, 0, 0])"
            ]
          },
          "metadata": {},
          "execution_count": 70
        }
      ]
    },
    {
      "cell_type": "code",
      "source": [
        "num_of_classes = len(label_binarizer.classes_)"
      ],
      "metadata": {
        "id": "kX7lZtAdgmcr"
      },
      "execution_count": 71,
      "outputs": []
    },
    {
      "cell_type": "code",
      "source": [
        "print(num_of_classes)"
      ],
      "metadata": {
        "colab": {
          "base_uri": "https://localhost:8080/"
        },
        "id": "Toz4TRaohX70",
        "outputId": "7a378367-6329-49e3-984e-980e6654e7c0"
      },
      "execution_count": 72,
      "outputs": [
        {
          "output_type": "stream",
          "name": "stdout",
          "text": [
            "15\n"
          ]
        }
      ]
    },
    {
      "cell_type": "code",
      "source": [
        "print(label_binarizer.classes_)\n",
        "\n",
        "\n"
      ],
      "metadata": {
        "colab": {
          "base_uri": "https://localhost:8080/"
        },
        "id": "qu4eHvjWhcXe",
        "outputId": "5de82711-ada3-4f7e-c3b2-f2e79db27eba"
      },
      "execution_count": 73,
      "outputs": [
        {
          "output_type": "stream",
          "name": "stdout",
          "text": [
            "['Pepper__bell___Bacterial_spot' 'Pepper__bell___healthy'\n",
            " 'Potato___Early_blight' 'Potato___Late_blight' 'Potato___healthy'\n",
            " 'Tomato_Bacterial_spot' 'Tomato_Early_blight' 'Tomato_Late_blight'\n",
            " 'Tomato_Leaf_Mold' 'Tomato_Septoria_leaf_spot'\n",
            " 'Tomato_Spider_mites_Two_spotted_spider_mite' 'Tomato__Target_Spot'\n",
            " 'Tomato__Tomato_YellowLeaf__Curl_Virus' 'Tomato__Tomato_mosaic_virus'\n",
            " 'Tomato_healthy']\n"
          ]
        }
      ]
    },
    {
      "cell_type": "markdown",
      "source": [
        "CONVERTING IMAGE LIST TO NP ARRAY,FLOAT32 TO FLOAT16,NORMALIZATION BY DIVIDING WITH 255"
      ],
      "metadata": {
        "id": "dsnDyX_WiGtA"
      }
    },
    {
      "cell_type": "code",
      "source": [
        "np_image_list = np.array(image_list)/255"
      ],
      "metadata": {
        "id": "AQ51SScXhnki"
      },
      "execution_count": 74,
      "outputs": []
    },
    {
      "cell_type": "code",
      "source": [
        "np_image_list[0]"
      ],
      "metadata": {
        "colab": {
          "base_uri": "https://localhost:8080/"
        },
        "id": "R4XvFmWQh40W",
        "outputId": "c560aeed-d12b-418a-89f5-c3689caef9ed"
      },
      "execution_count": 75,
      "outputs": [
        {
          "output_type": "execute_result",
          "data": {
            "text/plain": [
              "array([[[0.39607844, 0.39215687, 0.43137255],\n",
              "        [0.39607844, 0.39215687, 0.42745098],\n",
              "        [0.43529412, 0.43137255, 0.47058824],\n",
              "        ...,\n",
              "        [0.34901962, 0.34901962, 0.39607844],\n",
              "        [0.33333334, 0.33333334, 0.38039216],\n",
              "        [0.3764706 , 0.3764706 , 0.42352942]],\n",
              "\n",
              "       [[0.38039216, 0.3764706 , 0.41568628],\n",
              "        [0.36078432, 0.35686275, 0.39607844],\n",
              "        [0.34901962, 0.34509805, 0.38431373],\n",
              "        ...,\n",
              "        [0.38039216, 0.38039216, 0.42745098],\n",
              "        [0.36078432, 0.36078432, 0.40784314],\n",
              "        [0.34901962, 0.34901962, 0.4       ]],\n",
              "\n",
              "       [[0.40784314, 0.40392157, 0.44313726],\n",
              "        [0.37254903, 0.36862746, 0.40784314],\n",
              "        [0.35686275, 0.3529412 , 0.39215687],\n",
              "        ...,\n",
              "        [0.35686275, 0.35686275, 0.40784314],\n",
              "        [0.3254902 , 0.3254902 , 0.37254903],\n",
              "        [0.3019608 , 0.3019608 , 0.34901962]],\n",
              "\n",
              "       ...,\n",
              "\n",
              "       [[0.61960787, 0.6156863 , 0.627451  ],\n",
              "        [0.6117647 , 0.60784316, 0.62352943],\n",
              "        [0.6       , 0.59607846, 0.6117647 ],\n",
              "        ...,\n",
              "        [0.5921569 , 0.58431375, 0.60784316],\n",
              "        [0.5803922 , 0.57254905, 0.59607846],\n",
              "        [0.5647059 , 0.5529412 , 0.5764706 ]],\n",
              "\n",
              "       [[0.57254905, 0.5686275 , 0.58431375],\n",
              "        [0.6       , 0.6       , 0.6156863 ],\n",
              "        [0.6156863 , 0.6117647 , 0.627451  ],\n",
              "        ...,\n",
              "        [0.5882353 , 0.5803922 , 0.6039216 ],\n",
              "        [0.56078434, 0.5529412 , 0.5764706 ],\n",
              "        [0.5529412 , 0.54509807, 0.5686275 ]],\n",
              "\n",
              "       [[0.59607846, 0.5921569 , 0.6039216 ],\n",
              "        [0.6039216 , 0.6       , 0.6156863 ],\n",
              "        [0.59607846, 0.5921569 , 0.60784316],\n",
              "        ...,\n",
              "        [0.5686275 , 0.56078434, 0.58431375],\n",
              "        [0.5568628 , 0.54901963, 0.57254905],\n",
              "        [0.54509807, 0.5372549 , 0.56078434]]], dtype=float32)"
            ]
          },
          "metadata": {},
          "execution_count": 75
        }
      ]
    },
    {
      "cell_type": "markdown",
      "source": [
        "SPLITTING THE DATA INTO TRAIN AND TEST-THIS TEST DATA WILL BE USED AS VALIDATION DATA"
      ],
      "metadata": {
        "id": "fuSSHZtgim0B"
      }
    },
    {
      "cell_type": "code",
      "source": [
        "X_train, X_test, y_train, y_test = train_test_split(np_image_list, image_labels, test_size=0.10, random_state=1)\n",
        "\n"
      ],
      "metadata": {
        "id": "94Di9j4Sh_vr"
      },
      "execution_count": 76,
      "outputs": []
    },
    {
      "cell_type": "code",
      "source": [
        "len(X_train)"
      ],
      "metadata": {
        "colab": {
          "base_uri": "https://localhost:8080/"
        },
        "id": "2u_8us6DikDS",
        "outputId": "fbc5ad30-1342-40bf-81c4-b0effa79876f"
      },
      "execution_count": 77,
      "outputs": [
        {
          "output_type": "execute_result",
          "data": {
            "text/plain": [
              "3898"
            ]
          },
          "metadata": {},
          "execution_count": 77
        }
      ]
    },
    {
      "cell_type": "code",
      "source": [
        "len(X_test)"
      ],
      "metadata": {
        "colab": {
          "base_uri": "https://localhost:8080/"
        },
        "id": "4NLBKcTriz2-",
        "outputId": "0322f7d9-c232-4d2b-a86c-62dab22e43ce"
      },
      "execution_count": 78,
      "outputs": [
        {
          "output_type": "execute_result",
          "data": {
            "text/plain": [
              "434"
            ]
          },
          "metadata": {},
          "execution_count": 78
        }
      ]
    },
    {
      "cell_type": "code",
      "source": [
        "len(y_train)"
      ],
      "metadata": {
        "colab": {
          "base_uri": "https://localhost:8080/"
        },
        "id": "snp4iEVOjEao",
        "outputId": "cd972d1a-391d-4378-b2c1-85366607f91d"
      },
      "execution_count": 79,
      "outputs": [
        {
          "output_type": "execute_result",
          "data": {
            "text/plain": [
              "3898"
            ]
          },
          "metadata": {},
          "execution_count": 79
        }
      ]
    },
    {
      "cell_type": "code",
      "source": [
        "X_train[0].shape"
      ],
      "metadata": {
        "colab": {
          "base_uri": "https://localhost:8080/"
        },
        "id": "KV-hqasyi2v3",
        "outputId": "2d09c9f3-36a9-4289-ff18-9ac3021e024e"
      },
      "execution_count": 80,
      "outputs": [
        {
          "output_type": "execute_result",
          "data": {
            "text/plain": [
              "(175, 175, 3)"
            ]
          },
          "metadata": {},
          "execution_count": 80
        }
      ]
    },
    {
      "cell_type": "code",
      "source": [
        "y_train[0].shape"
      ],
      "metadata": {
        "colab": {
          "base_uri": "https://localhost:8080/"
        },
        "id": "f0W5iD-Bi92I",
        "outputId": "a6f1565c-6a5f-4fd7-eb51-3c85b5654724"
      },
      "execution_count": 81,
      "outputs": [
        {
          "output_type": "execute_result",
          "data": {
            "text/plain": [
              "(15,)"
            ]
          },
          "metadata": {},
          "execution_count": 81
        }
      ]
    },
    {
      "cell_type": "markdown",
      "source": [
        "CREATING INSTANCE FOR IMAGE AUGMENTATION FUNCTION"
      ],
      "metadata": {
        "id": "cfEls6Q9jhwr"
      }
    },
    {
      "cell_type": "code",
      "source": [
        "aug = ImageDataGenerator(rotation_range=25,\n",
        "                         width_shift_range=0.1, \n",
        "                         height_shift_range=0.1,\n",
        "                         shear_range=0.2, zoom_range=0.2,\n",
        "                         horizontal_flip=True, fill_mode='nearest')\n",
        "\n"
      ],
      "metadata": {
        "id": "p4MAi2Q-jL62"
      },
      "execution_count": 82,
      "outputs": []
    },
    {
      "cell_type": "markdown",
      "source": [
        "BUILDING THE CNN MODEL"
      ],
      "metadata": {
        "id": "yNz4yH8ejvu8"
      }
    },
    {
      "cell_type": "code",
      "source": [
        "model = Sequential()\n",
        "inputshape = (height,width,depth)\n",
        "chanDim = -1\n",
        "if K.image_data_format() == \"channels_first\":\n",
        "    inputShape = (depth, height, width)\n",
        "    chanDim = 1\n",
        "model.add(Conv2D(32, (3,3), padding=\"same\", input_shape= inputshape))\n",
        "model.add(Activation(\"relu\"))\n",
        "model.add(BatchNormalization(axis= chanDim))\n",
        "model.add(MaxPooling2D(pool_size=(3,3)))\n",
        "model.add(Dropout(0.25))\n",
        "model.add(Conv2D(64, (3,3), padding=\"same\"))\n",
        "model.add(Activation(\"relu\"))\n",
        "model.add(BatchNormalization(axis= chanDim))\n",
        "model.add(Conv2D(64, (3,3), padding=\"same\" ))\n",
        "model.add(Activation(\"relu\"))\n",
        "model.add(BatchNormalization(axis= chanDim))\n",
        "model.add(MaxPooling2D(pool_size=(2,2)))\n",
        "model.add(Dropout(0.25))\n",
        "model.add(Conv2D(128, (3,3), padding=\"same\"))\n",
        "model.add(Activation(\"relu\"))\n",
        "model.add(BatchNormalization(axis= chanDim))\n",
        "model.add(Conv2D(128, (3,3), padding=\"same\" ))\n",
        "model.add(Activation(\"relu\"))\n",
        "model.add(BatchNormalization(axis= chanDim))\n",
        "model.add(MaxPooling2D(pool_size=(2,2)))\n",
        "model.add(Dropout(0.25))\n",
        "model.add(Flatten())\n",
        "model.add(Dense(1024))\n",
        "model.add(Activation(\"relu\"))\n",
        "model.add(BatchNormalization())\n",
        "model.add(Dropout(0.5))\n",
        "model.add(Dense(num_of_classes))\n",
        "model.add(Activation(\"softmax\"))\n",
        "\n"
      ],
      "metadata": {
        "id": "0FsRtGGOjgMM"
      },
      "execution_count": 83,
      "outputs": []
    },
    {
      "cell_type": "code",
      "source": [
        "model.summary()"
      ],
      "metadata": {
        "colab": {
          "base_uri": "https://localhost:8080/"
        },
        "id": "MsPel221lYuy",
        "outputId": "263fed34-428f-4481-b3d2-e7c7c36ba757"
      },
      "execution_count": 84,
      "outputs": [
        {
          "output_type": "stream",
          "name": "stdout",
          "text": [
            "Model: \"sequential_1\"\n",
            "_________________________________________________________________\n",
            " Layer (type)                Output Shape              Param #   \n",
            "=================================================================\n",
            " conv2d_5 (Conv2D)           (None, 175, 175, 32)      896       \n",
            "                                                                 \n",
            " activation_7 (Activation)   (None, 175, 175, 32)      0         \n",
            "                                                                 \n",
            " batch_normalization_6 (Batc  (None, 175, 175, 32)     128       \n",
            " hNormalization)                                                 \n",
            "                                                                 \n",
            " max_pooling2d_3 (MaxPooling  (None, 58, 58, 32)       0         \n",
            " 2D)                                                             \n",
            "                                                                 \n",
            " dropout_4 (Dropout)         (None, 58, 58, 32)        0         \n",
            "                                                                 \n",
            " conv2d_6 (Conv2D)           (None, 58, 58, 64)        18496     \n",
            "                                                                 \n",
            " activation_8 (Activation)   (None, 58, 58, 64)        0         \n",
            "                                                                 \n",
            " batch_normalization_7 (Batc  (None, 58, 58, 64)       256       \n",
            " hNormalization)                                                 \n",
            "                                                                 \n",
            " conv2d_7 (Conv2D)           (None, 58, 58, 64)        36928     \n",
            "                                                                 \n",
            " activation_9 (Activation)   (None, 58, 58, 64)        0         \n",
            "                                                                 \n",
            " batch_normalization_8 (Batc  (None, 58, 58, 64)       256       \n",
            " hNormalization)                                                 \n",
            "                                                                 \n",
            " max_pooling2d_4 (MaxPooling  (None, 29, 29, 64)       0         \n",
            " 2D)                                                             \n",
            "                                                                 \n",
            " dropout_5 (Dropout)         (None, 29, 29, 64)        0         \n",
            "                                                                 \n",
            " conv2d_8 (Conv2D)           (None, 29, 29, 128)       73856     \n",
            "                                                                 \n",
            " activation_10 (Activation)  (None, 29, 29, 128)       0         \n",
            "                                                                 \n",
            " batch_normalization_9 (Batc  (None, 29, 29, 128)      512       \n",
            " hNormalization)                                                 \n",
            "                                                                 \n",
            " conv2d_9 (Conv2D)           (None, 29, 29, 128)       147584    \n",
            "                                                                 \n",
            " activation_11 (Activation)  (None, 29, 29, 128)       0         \n",
            "                                                                 \n",
            " batch_normalization_10 (Bat  (None, 29, 29, 128)      512       \n",
            " chNormalization)                                                \n",
            "                                                                 \n",
            " max_pooling2d_5 (MaxPooling  (None, 14, 14, 128)      0         \n",
            " 2D)                                                             \n",
            "                                                                 \n",
            " dropout_6 (Dropout)         (None, 14, 14, 128)       0         \n",
            "                                                                 \n",
            " flatten_1 (Flatten)         (None, 25088)             0         \n",
            "                                                                 \n",
            " dense_2 (Dense)             (None, 1024)              25691136  \n",
            "                                                                 \n",
            " activation_12 (Activation)  (None, 1024)              0         \n",
            "                                                                 \n",
            " batch_normalization_11 (Bat  (None, 1024)             4096      \n",
            " chNormalization)                                                \n",
            "                                                                 \n",
            " dropout_7 (Dropout)         (None, 1024)              0         \n",
            "                                                                 \n",
            " dense_3 (Dense)             (None, 15)                15375     \n",
            "                                                                 \n",
            " activation_13 (Activation)  (None, 15)                0         \n",
            "                                                                 \n",
            "=================================================================\n",
            "Total params: 25,990,031\n",
            "Trainable params: 25,987,151\n",
            "Non-trainable params: 2,880\n",
            "_________________________________________________________________\n"
          ]
        }
      ]
    },
    {
      "cell_type": "code",
      "source": [
        "opt = tensorflow.keras.optimizers.Adam(learning_rate=0.001)"
      ],
      "metadata": {
        "id": "4DHkjNLBlO6V"
      },
      "execution_count": 85,
      "outputs": []
    },
    {
      "cell_type": "code",
      "source": [
        "model.compile(loss='categorical_crossentropy', optimizer= opt, metrics=[\"accuracy\"])"
      ],
      "metadata": {
        "id": "_Znh5oLUlvus"
      },
      "execution_count": 86,
      "outputs": []
    },
    {
      "cell_type": "code",
      "source": [
        "model_history = model.fit_generator(\n",
        "    aug.flow(X_train, y_train, batch_size= Batch_size),\n",
        "    validation_data=(X_test, y_test),\n",
        "    steps_per_epoch=len(X_train) // Batch_size,\n",
        "    epochs=Number_of_epochs, verbose=1)\n"
      ],
      "metadata": {
        "id": "vp-iTwVtl-_J",
        "colab": {
          "base_uri": "https://localhost:8080/"
        },
        "outputId": "9715c192-4862-4e95-85e7-c7aa10a2362f"
      },
      "execution_count": 87,
      "outputs": [
        {
          "output_type": "stream",
          "name": "stderr",
          "text": [
            "/usr/local/lib/python3.7/dist-packages/ipykernel_launcher.py:5: UserWarning: `Model.fit_generator` is deprecated and will be removed in a future version. Please use `Model.fit`, which supports generators.\n",
            "  \"\"\"\n"
          ]
        },
        {
          "output_type": "stream",
          "name": "stdout",
          "text": [
            "Epoch 1/35\n",
            "121/121 [==============================] - 27s 212ms/step - loss: 1.6937 - accuracy: 0.5189 - val_loss: 8.7132 - val_accuracy: 0.0668\n",
            "Epoch 2/35\n",
            "121/121 [==============================] - 26s 210ms/step - loss: 1.2951 - accuracy: 0.6283 - val_loss: 11.7828 - val_accuracy: 0.1198\n",
            "Epoch 3/35\n",
            "121/121 [==============================] - 25s 209ms/step - loss: 1.0954 - accuracy: 0.6730 - val_loss: 8.4629 - val_accuracy: 0.1498\n",
            "Epoch 4/35\n",
            "121/121 [==============================] - 26s 211ms/step - loss: 0.8729 - accuracy: 0.7367 - val_loss: 3.7865 - val_accuracy: 0.3894\n",
            "Epoch 5/35\n",
            "121/121 [==============================] - 25s 209ms/step - loss: 0.7158 - accuracy: 0.7644 - val_loss: 3.9189 - val_accuracy: 0.4263\n",
            "Epoch 6/35\n",
            "121/121 [==============================] - 25s 210ms/step - loss: 0.6494 - accuracy: 0.7938 - val_loss: 0.7831 - val_accuracy: 0.7788\n",
            "Epoch 7/35\n",
            "121/121 [==============================] - 26s 210ms/step - loss: 0.5623 - accuracy: 0.8195 - val_loss: 6.4193 - val_accuracy: 0.2627\n",
            "Epoch 8/35\n",
            "121/121 [==============================] - 25s 208ms/step - loss: 0.5221 - accuracy: 0.8306 - val_loss: 4.0501 - val_accuracy: 0.5138\n",
            "Epoch 9/35\n",
            "121/121 [==============================] - 25s 210ms/step - loss: 0.4856 - accuracy: 0.8471 - val_loss: 0.5574 - val_accuracy: 0.8203\n",
            "Epoch 10/35\n",
            "121/121 [==============================] - 25s 209ms/step - loss: 0.4542 - accuracy: 0.8598 - val_loss: 3.1758 - val_accuracy: 0.5691\n",
            "Epoch 11/35\n",
            "121/121 [==============================] - 27s 222ms/step - loss: 0.4161 - accuracy: 0.8606 - val_loss: 3.6545 - val_accuracy: 0.4493\n",
            "Epoch 12/35\n",
            "121/121 [==============================] - 25s 210ms/step - loss: 0.4054 - accuracy: 0.8658 - val_loss: 2.6313 - val_accuracy: 0.5622\n",
            "Epoch 13/35\n",
            "121/121 [==============================] - 25s 209ms/step - loss: 0.4011 - accuracy: 0.8655 - val_loss: 2.3560 - val_accuracy: 0.6498\n",
            "Epoch 14/35\n",
            "121/121 [==============================] - 26s 211ms/step - loss: 0.4546 - accuracy: 0.8557 - val_loss: 2.2334 - val_accuracy: 0.6705\n",
            "Epoch 15/35\n",
            "121/121 [==============================] - 25s 209ms/step - loss: 0.3696 - accuracy: 0.8797 - val_loss: 12.1653 - val_accuracy: 0.1498\n",
            "Epoch 16/35\n",
            "121/121 [==============================] - 26s 213ms/step - loss: 0.3395 - accuracy: 0.8854 - val_loss: 4.2415 - val_accuracy: 0.4078\n",
            "Epoch 17/35\n",
            "121/121 [==============================] - 27s 223ms/step - loss: 0.3320 - accuracy: 0.8901 - val_loss: 2.7917 - val_accuracy: 0.6290\n",
            "Epoch 18/35\n",
            "121/121 [==============================] - 25s 209ms/step - loss: 0.2894 - accuracy: 0.9035 - val_loss: 1.7371 - val_accuracy: 0.6982\n",
            "Epoch 19/35\n",
            "121/121 [==============================] - 26s 211ms/step - loss: 0.2792 - accuracy: 0.9079 - val_loss: 1.4396 - val_accuracy: 0.7535\n",
            "Epoch 20/35\n",
            "121/121 [==============================] - 26s 211ms/step - loss: 0.2879 - accuracy: 0.9027 - val_loss: 7.6905 - val_accuracy: 0.4378\n",
            "Epoch 21/35\n",
            "121/121 [==============================] - 26s 211ms/step - loss: 0.2646 - accuracy: 0.9097 - val_loss: 2.4812 - val_accuracy: 0.6613\n",
            "Epoch 22/35\n",
            "121/121 [==============================] - 25s 210ms/step - loss: 0.2504 - accuracy: 0.9203 - val_loss: 1.0614 - val_accuracy: 0.7281\n",
            "Epoch 23/35\n",
            "121/121 [==============================] - 26s 211ms/step - loss: 0.2398 - accuracy: 0.9206 - val_loss: 1.7714 - val_accuracy: 0.6866\n",
            "Epoch 24/35\n",
            "121/121 [==============================] - 26s 211ms/step - loss: 0.2681 - accuracy: 0.9110 - val_loss: 3.8080 - val_accuracy: 0.4931\n",
            "Epoch 25/35\n",
            "121/121 [==============================] - 26s 211ms/step - loss: 0.2228 - accuracy: 0.9268 - val_loss: 1.4924 - val_accuracy: 0.6982\n",
            "Epoch 26/35\n",
            "121/121 [==============================] - 26s 211ms/step - loss: 0.2147 - accuracy: 0.9294 - val_loss: 1.6741 - val_accuracy: 0.6728\n",
            "Epoch 27/35\n",
            "121/121 [==============================] - 25s 210ms/step - loss: 0.1870 - accuracy: 0.9387 - val_loss: 7.6664 - val_accuracy: 0.3710\n",
            "Epoch 28/35\n",
            "121/121 [==============================] - 26s 211ms/step - loss: 0.2241 - accuracy: 0.9250 - val_loss: 1.2538 - val_accuracy: 0.7166\n",
            "Epoch 29/35\n",
            "121/121 [==============================] - 26s 211ms/step - loss: 0.2433 - accuracy: 0.9208 - val_loss: 2.2627 - val_accuracy: 0.6083\n",
            "Epoch 30/35\n",
            "121/121 [==============================] - 26s 212ms/step - loss: 0.1937 - accuracy: 0.9382 - val_loss: 1.9610 - val_accuracy: 0.6751\n",
            "Epoch 31/35\n",
            "121/121 [==============================] - 25s 210ms/step - loss: 0.2030 - accuracy: 0.9351 - val_loss: 1.5457 - val_accuracy: 0.7074\n",
            "Epoch 32/35\n",
            "121/121 [==============================] - 25s 210ms/step - loss: 0.1775 - accuracy: 0.9397 - val_loss: 0.4058 - val_accuracy: 0.8756\n",
            "Epoch 33/35\n",
            "121/121 [==============================] - 26s 211ms/step - loss: 0.2047 - accuracy: 0.9307 - val_loss: 2.5492 - val_accuracy: 0.6083\n",
            "Epoch 34/35\n",
            "121/121 [==============================] - 26s 211ms/step - loss: 0.2215 - accuracy: 0.9307 - val_loss: 0.7147 - val_accuracy: 0.8571\n",
            "Epoch 35/35\n",
            "121/121 [==============================] - 26s 212ms/step - loss: 0.2125 - accuracy: 0.9309 - val_loss: 0.4857 - val_accuracy: 0.8825\n"
          ]
        }
      ]
    },
    {
      "cell_type": "markdown",
      "source": [
        "PLOTING THE TRAIN ACCURACY VS VALIDATION ACCURACY AND TRAIN LOSS VS VALIDATION LOSS"
      ],
      "metadata": {
        "id": "siU9sEXOBGUO"
      }
    },
    {
      "cell_type": "code",
      "source": [
        "model_history.history.keys()"
      ],
      "metadata": {
        "colab": {
          "base_uri": "https://localhost:8080/"
        },
        "id": "r-PZxwK0ASR7",
        "outputId": "4291aaf6-92f9-44e5-c95e-4d4d3d5df016"
      },
      "execution_count": 88,
      "outputs": [
        {
          "output_type": "execute_result",
          "data": {
            "text/plain": [
              "dict_keys(['loss', 'accuracy', 'val_loss', 'val_accuracy'])"
            ]
          },
          "metadata": {},
          "execution_count": 88
        }
      ]
    },
    {
      "cell_type": "code",
      "source": [
        "train_acc = model_history.history['accuracy']\n",
        "val_acc = model_history.history['val_accuracy']\n",
        "train_loss = model_history.history['loss']\n",
        "val_loss = model_history.history['val_loss']\n",
        "epochs = range(1, len(train_acc) + 1)\n"
      ],
      "metadata": {
        "id": "6wvjFQfInKTt"
      },
      "execution_count": 89,
      "outputs": []
    },
    {
      "cell_type": "markdown",
      "source": [
        "\n",
        "PLOTING THE TRAIN ACCURACY VS VALIDATION ACCURACY"
      ],
      "metadata": {
        "id": "V1UWq7znBdyi"
      }
    },
    {
      "cell_type": "code",
      "source": [
        "plt.plot(epochs,train_acc, 'b', label='Training accurarcy')\n",
        "plt.plot(epochs, val_acc, 'r', label='Validation accurarcy')\n",
        "plt.title('Training and Validation accurarcy')\n",
        "plt.legend()\n",
        "plt.show\n"
      ],
      "metadata": {
        "colab": {
          "base_uri": "https://localhost:8080/",
          "height": 298
        },
        "id": "0_Bxlv8VBY1v",
        "outputId": "2f0c82d3-e4a6-4739-8a3d-4513aa310b6b"
      },
      "execution_count": 90,
      "outputs": [
        {
          "output_type": "execute_result",
          "data": {
            "text/plain": [
              "<function matplotlib.pyplot.show(*args, **kw)>"
            ]
          },
          "metadata": {},
          "execution_count": 90
        },
        {
          "output_type": "display_data",
          "data": {
            "text/plain": [
              "<Figure size 432x288 with 1 Axes>"
            ],
            "image/png": "[encoded data removed]"
          },
          "metadata": {
            "needs_background": "light"
          }
        }
      ]
    },
    {
      "cell_type": "markdown",
      "source": [
        "PLOTING THE TRAIN LOSS VS VALIDATION LOSS"
      ],
      "metadata": {
        "id": "4LOoNbjVCER3"
      }
    },
    {
      "cell_type": "code",
      "source": [
        "plt.plot(epochs, train_loss, 'b', label='Training loss')\n",
        "plt.plot(epochs, val_loss, 'r', label='Validation loss')\n",
        "plt.title('Training and Validation loss')\n",
        "plt.legend()\n",
        "plt.show()\n"
      ],
      "metadata": {
        "colab": {
          "base_uri": "https://localhost:8080/",
          "height": 281
        },
        "id": "vmHk5GBnB2P3",
        "outputId": "9fb58e7e-420e-4153-9f56-a0626e4a19c3"
      },
      "execution_count": 91,
      "outputs": [
        {
          "output_type": "display_data",
          "data": {
            "text/plain": [
              "<Figure size 432x288 with 1 Axes>"
            ],
            "image/png": "[encoded data removed]"
          },
          "metadata": {
            "needs_background": "light"
          }
        }
      ]
    },
    {
      "cell_type": "markdown",
      "source": [
        "EVALUATING THE  PERFORMANC ON FINAL TEST IMAGES"
      ],
      "metadata": {
        "id": "EuoDn4_SCfJR"
      }
    },
    {
      "cell_type": "code",
      "source": [
        "root_directory_final_test= r'/content/drive/MyDrive/PLANT  LEAF DISEASE DATA/FINAL_TEST'"
      ],
      "metadata": {
        "id": "Iqpa-U9sC061"
      },
      "execution_count": 92,
      "outputs": []
    },
    {
      "cell_type": "markdown",
      "source": [
        "PRE-PROCESSING THE FINAL TEST DATA"
      ],
      "metadata": {
        "id": "RKl4Lv0VDYWq"
      }
    },
    {
      "cell_type": "code",
      "source": [
        "data_final_test = []\n",
        "for category in CATEGORIES:\n",
        "  folder = os.path.join(root_directory_final_test,category)\n",
        "  label_test = category\n",
        "  for img in os.listdir(folder):\n",
        "    img_path = os.path.join(folder, img)\n",
        "    img_array = convert_image_to_array(img_path)\n",
        "    data_final_test.append([img_array, label_test])\n"
      ],
      "metadata": {
        "id": "naVrM25KCW1P"
      },
      "execution_count": 93,
      "outputs": []
    },
    {
      "cell_type": "markdown",
      "source": [
        "THERE ARE 300 IMAGES IN FINAL TEST DATA,20 IMAGES FOR EACH OF 15  CATEGORIES"
      ],
      "metadata": {
        "id": "Yxy54g9gD8cN"
      }
    },
    {
      "cell_type": "code",
      "source": [
        "len(data_final_test)"
      ],
      "metadata": {
        "colab": {
          "base_uri": "https://localhost:8080/"
        },
        "id": "1drURvnTDfRJ",
        "outputId": "8e06240a-e283-4dd8-9da5-101cd0faf5c0"
      },
      "execution_count": 94,
      "outputs": [
        {
          "output_type": "execute_result",
          "data": {
            "text/plain": [
              "300"
            ]
          },
          "metadata": {},
          "execution_count": 94
        }
      ]
    },
    {
      "cell_type": "code",
      "source": [
        "data_final_test[298]"
      ],
      "metadata": {
        "colab": {
          "base_uri": "https://localhost:8080/"
        },
        "id": "HYy40MAdD5i4",
        "outputId": "d7c21208-75ff-430b-bb02-34a893932584"
      },
      "execution_count": 95,
      "outputs": [
        {
          "output_type": "execute_result",
          "data": {
            "text/plain": [
              "[array([[[190., 177., 179.],\n",
              "         [186., 173., 175.],\n",
              "         [194., 181., 183.],\n",
              "         ...,\n",
              "         [153., 140., 142.],\n",
              "         [152., 139., 141.],\n",
              "         [154., 141., 142.]],\n",
              " \n",
              "        [[193., 180., 182.],\n",
              "         [191., 178., 180.],\n",
              "         [192., 179., 181.],\n",
              "         ...,\n",
              "         [153., 140., 142.],\n",
              "         [170., 157., 159.],\n",
              "         [165., 152., 154.]],\n",
              " \n",
              "        [[189., 176., 178.],\n",
              "         [189., 176., 178.],\n",
              "         [189., 177., 179.],\n",
              "         ...,\n",
              "         [148., 136., 137.],\n",
              "         [153., 140., 142.],\n",
              "         [145., 132., 134.]],\n",
              " \n",
              "        ...,\n",
              " \n",
              "        [[205., 194., 196.],\n",
              "         [202., 191., 193.],\n",
              "         [200., 189., 191.],\n",
              "         ...,\n",
              "         [150., 143., 146.],\n",
              "         [141., 134., 137.],\n",
              "         [146., 139., 142.]],\n",
              " \n",
              "        [[203., 192., 194.],\n",
              "         [201., 190., 192.],\n",
              "         [201., 190., 192.],\n",
              "         ...,\n",
              "         [154., 148., 150.],\n",
              "         [167., 160., 163.],\n",
              "         [160., 153., 156.]],\n",
              " \n",
              "        [[200., 189., 191.],\n",
              "         [203., 192., 194.],\n",
              "         [207., 196., 198.],\n",
              "         ...,\n",
              "         [174., 167., 170.],\n",
              "         [179., 172., 175.],\n",
              "         [162., 155., 158.]]], dtype=float32), 'Potato___Early_blight']"
            ]
          },
          "metadata": {},
          "execution_count": 95
        }
      ]
    },
    {
      "cell_type": "markdown",
      "source": [
        "SEPARATING THE IMAGES AND LABELS OF FINAL TEST DATA"
      ],
      "metadata": {
        "id": "GvnBLlmbEhX1"
      }
    },
    {
      "cell_type": "code",
      "source": [
        "final_test_images = []\n",
        "final_test_labels = []\n",
        "for features, labels in data_final_test:\n",
        "  final_test_images.append(features)\n",
        "  final_test_labels.append(labels)\n"
      ],
      "metadata": {
        "id": "nzCZHdqeEMFr"
      },
      "execution_count": 96,
      "outputs": []
    },
    {
      "cell_type": "code",
      "source": [
        "len(final_test_images)"
      ],
      "metadata": {
        "colab": {
          "base_uri": "https://localhost:8080/"
        },
        "id": "N4Y9B0buEuXu",
        "outputId": "9e53a46f-cc8f-47df-9cd9-36061068b30f"
      },
      "execution_count": 97,
      "outputs": [
        {
          "output_type": "execute_result",
          "data": {
            "text/plain": [
              "300"
            ]
          },
          "metadata": {},
          "execution_count": 97
        }
      ]
    },
    {
      "cell_type": "code",
      "source": [
        "len(final_test_labels)"
      ],
      "metadata": {
        "colab": {
          "base_uri": "https://localhost:8080/"
        },
        "id": "FLQD70VJEyd8",
        "outputId": "30bc66ee-4469-438a-e7b8-d33551a652d2"
      },
      "execution_count": 98,
      "outputs": [
        {
          "output_type": "execute_result",
          "data": {
            "text/plain": [
              "300"
            ]
          },
          "metadata": {},
          "execution_count": 98
        }
      ]
    },
    {
      "cell_type": "markdown",
      "source": [
        "ONE-HOT ENCODING OF FINAL TEST LABELS"
      ],
      "metadata": {
        "id": "iU-vZv2-FCS1"
      }
    },
    {
      "cell_type": "code",
      "source": [
        "final_test_labels_encode = label_binarizer.fit_transform(final_test_labels)"
      ],
      "metadata": {
        "id": "Vt_yg6NpE5RJ"
      },
      "execution_count": 99,
      "outputs": []
    },
    {
      "cell_type": "code",
      "source": [
        "final_test_labels_encode[2]\n",
        "\n"
      ],
      "metadata": {
        "colab": {
          "base_uri": "https://localhost:8080/"
        },
        "id": "Y87htYOyFLdf",
        "outputId": "b4c2c18c-766c-45d9-9a88-d37e737c325f"
      },
      "execution_count": 100,
      "outputs": [
        {
          "output_type": "execute_result",
          "data": {
            "text/plain": [
              "array([0, 0, 0, 0, 0, 1, 0, 0, 0, 0, 0, 0, 0, 0, 0])"
            ]
          },
          "metadata": {},
          "execution_count": 100
        }
      ]
    },
    {
      "cell_type": "markdown",
      "source": [
        "NORMALIZATION OF FINAL TEST IMAGES DATA"
      ],
      "metadata": {
        "id": "5jXckXnbFbB2"
      }
    },
    {
      "cell_type": "code",
      "source": [
        "np_final_test_images =  np.array(final_test_images)/255"
      ],
      "metadata": {
        "id": "udU4V-_LFOpc"
      },
      "execution_count": 101,
      "outputs": []
    },
    {
      "cell_type": "markdown",
      "source": [
        "EVALUATION OF VALIDATION DATA"
      ],
      "metadata": {
        "id": "t4cpzVnQFucg"
      }
    },
    {
      "cell_type": "code",
      "source": [
        "scores = model.evaluate(X_test, y_test)\n",
        "print(f\"Validation data Accuracy: {scores[1]*100}\")\n",
        "\n"
      ],
      "metadata": {
        "colab": {
          "base_uri": "https://localhost:8080/"
        },
        "id": "yD7i1qbdFpkv",
        "outputId": "a0a66e7c-7280-492b-df5a-c3a60029a9bf"
      },
      "execution_count": 102,
      "outputs": [
        {
          "output_type": "stream",
          "name": "stdout",
          "text": [
            "14/14 [==============================] - 0s 20ms/step - loss: 0.4857 - accuracy: 0.8825\n",
            "Validation data Accuracy: 88.2488489151001\n"
          ]
        }
      ]
    },
    {
      "cell_type": "markdown",
      "source": [
        "EVALUATION OF FINAL TEST DATA"
      ],
      "metadata": {
        "id": "7R2jP0E0GGPK"
      }
    },
    {
      "cell_type": "code",
      "source": [
        "scores = model.evaluate(np_final_test_images, final_test_labels_encode)\n",
        "print(f\"Final_Test Accuracy: {scores[1]*100}\")\n"
      ],
      "metadata": {
        "colab": {
          "base_uri": "https://localhost:8080/"
        },
        "id": "QVUVq3GzFZmG",
        "outputId": "c1483c63-2167-4f08-a321-4c75e2384887"
      },
      "execution_count": 103,
      "outputs": [
        {
          "output_type": "stream",
          "name": "stdout",
          "text": [
            "10/10 [==============================] - 0s 19ms/step - loss: 0.5869 - accuracy: 0.8367\n",
            "Final_Test Accuracy: 83.66666436195374\n"
          ]
        }
      ]
    }
  ]
}